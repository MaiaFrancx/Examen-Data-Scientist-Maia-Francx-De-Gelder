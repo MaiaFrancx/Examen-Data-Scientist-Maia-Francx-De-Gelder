{
 "cells": [
  {
   "cell_type": "markdown",
   "id": "415bfc2b",
   "metadata": {},
   "source": [
    "# Examen Data Scientist \n",
    "Maia Francx De Gelder <br> 04/06/2024"
   ]
  },
  {
   "cell_type": "markdown",
   "id": "bd6d7ac8",
   "metadata": {},
   "source": [
    "### Import necessary libraries"
   ]
  },
  {
   "cell_type": "code",
   "execution_count": 6,
   "id": "02c94bde",
   "metadata": {},
   "outputs": [],
   "source": [
    "#libraries importeren\n",
    "import sys\n",
    "import os\n",
    "import json\n",
    "#import matplotlib.pyplot as plt\n",
    "import pandas as pd\n",
    "#import numpy as np\n",
    "#from scipy import stats\n",
    "#from tqdm import tqdm\n",
    "#import math\n",
    "\n",
    "dirscripts  = os.path.join(os.path.dirname(os.getcwd()), \"Scripts\")\n",
    "sys.path.insert(0, dirscripts)\n",
    "\n",
    "#Eigen styling importeren \n",
    "import Styling\n",
    "\n",
    "#Eigen script importeren\n",
    "import Tools"
   ]
  },
  {
   "cell_type": "code",
   "execution_count": 2,
   "id": "3248baf8",
   "metadata": {},
   "outputs": [
    {
     "name": "stdout",
     "output_type": "stream",
     "text": [
      "Requirement already satisfied: dovpanda in c:\\users\\maiaf\\anaconda3\\lib\\site-packages (0.0.5)Note: you may need to restart the kernel to use updated packages.\n",
      "\n",
      "Requirement already satisfied: pandas in c:\\users\\maiaf\\anaconda3\\lib\\site-packages (from dovpanda) (2.0.3)\n",
      "Requirement already satisfied: python-dateutil>=2.8.2 in c:\\users\\maiaf\\anaconda3\\lib\\site-packages (from pandas->dovpanda) (2.8.2)\n",
      "Requirement already satisfied: pytz>=2020.1 in c:\\users\\maiaf\\anaconda3\\lib\\site-packages (from pandas->dovpanda) (2023.3.post1)\n",
      "Requirement already satisfied: tzdata>=2022.1 in c:\\users\\maiaf\\anaconda3\\lib\\site-packages (from pandas->dovpanda) (2023.3)\n",
      "Requirement already satisfied: numpy>=1.21.0 in c:\\users\\maiaf\\anaconda3\\lib\\site-packages (from pandas->dovpanda) (1.24.3)\n",
      "Requirement already satisfied: six>=1.5 in c:\\users\\maiaf\\anaconda3\\lib\\site-packages (from python-dateutil>=2.8.2->pandas->dovpanda) (1.16.0)\n"
     ]
    }
   ],
   "source": [
    "pip install dovpanda"
   ]
  },
  {
   "cell_type": "markdown",
   "id": "45fe0ece",
   "metadata": {},
   "source": [
    "### Load the data"
   ]
  },
  {
   "cell_type": "code",
   "execution_count": 5,
   "id": "24916461",
   "metadata": {},
   "outputs": [
    {
     "name": "stdout",
     "output_type": "stream",
     "text": [
      "Current working directory: C:\\Users\\maiaf\\OneDrive\\Documenten\\Examen Data Scientist\\Notebooks\n",
      "Constructed relative path: ..\\..\\Data\\Input\\Data_productie\\master_data.json\n"
     ]
    },
    {
     "ename": "FileNotFoundError",
     "evalue": "[Errno 2] No such file or directory: '..\\\\..\\\\Data\\\\Input\\\\Data_productie\\\\master_data.json'",
     "output_type": "error",
     "traceback": [
      "\u001b[1;31m---------------------------------------------------------------------------\u001b[0m",
      "\u001b[1;31mFileNotFoundError\u001b[0m                         Traceback (most recent call last)",
      "Cell \u001b[1;32mIn[5], line 12\u001b[0m\n\u001b[0;32m      9\u001b[0m \u001b[38;5;28mprint\u001b[39m(\u001b[38;5;124m\"\u001b[39m\u001b[38;5;124mConstructed relative path:\u001b[39m\u001b[38;5;124m\"\u001b[39m, relative_path)\n\u001b[0;32m     11\u001b[0m \u001b[38;5;66;03m# Open and load the JSON file\u001b[39;00m\n\u001b[1;32m---> 12\u001b[0m \u001b[38;5;28;01mwith\u001b[39;00m \u001b[38;5;28mopen\u001b[39m(relative_path, \u001b[38;5;124m'\u001b[39m\u001b[38;5;124mr\u001b[39m\u001b[38;5;124m'\u001b[39m, encoding\u001b[38;5;241m=\u001b[39m\u001b[38;5;124m'\u001b[39m\u001b[38;5;124mutf-8\u001b[39m\u001b[38;5;124m'\u001b[39m) \u001b[38;5;28;01mas\u001b[39;00m file:\n\u001b[0;32m     13\u001b[0m     data \u001b[38;5;241m=\u001b[39m json\u001b[38;5;241m.\u001b[39mload(file)\n\u001b[0;32m     15\u001b[0m \u001b[38;5;66;03m# Print the loaded data (optional)\u001b[39;00m\n",
      "File \u001b[1;32m~\\anaconda3\\Lib\\site-packages\\IPython\\core\\interactiveshell.py:286\u001b[0m, in \u001b[0;36m_modified_open\u001b[1;34m(file, *args, **kwargs)\u001b[0m\n\u001b[0;32m    279\u001b[0m \u001b[38;5;28;01mif\u001b[39;00m file \u001b[38;5;129;01min\u001b[39;00m {\u001b[38;5;241m0\u001b[39m, \u001b[38;5;241m1\u001b[39m, \u001b[38;5;241m2\u001b[39m}:\n\u001b[0;32m    280\u001b[0m     \u001b[38;5;28;01mraise\u001b[39;00m \u001b[38;5;167;01mValueError\u001b[39;00m(\n\u001b[0;32m    281\u001b[0m         \u001b[38;5;124mf\u001b[39m\u001b[38;5;124m\"\u001b[39m\u001b[38;5;124mIPython won\u001b[39m\u001b[38;5;124m'\u001b[39m\u001b[38;5;124mt let you open fd=\u001b[39m\u001b[38;5;132;01m{\u001b[39;00mfile\u001b[38;5;132;01m}\u001b[39;00m\u001b[38;5;124m by default \u001b[39m\u001b[38;5;124m\"\u001b[39m\n\u001b[0;32m    282\u001b[0m         \u001b[38;5;124m\"\u001b[39m\u001b[38;5;124mas it is likely to crash IPython. If you know what you are doing, \u001b[39m\u001b[38;5;124m\"\u001b[39m\n\u001b[0;32m    283\u001b[0m         \u001b[38;5;124m\"\u001b[39m\u001b[38;5;124myou can use builtins\u001b[39m\u001b[38;5;124m'\u001b[39m\u001b[38;5;124m open.\u001b[39m\u001b[38;5;124m\"\u001b[39m\n\u001b[0;32m    284\u001b[0m     )\n\u001b[1;32m--> 286\u001b[0m \u001b[38;5;28;01mreturn\u001b[39;00m io_open(file, \u001b[38;5;241m*\u001b[39margs, \u001b[38;5;241m*\u001b[39m\u001b[38;5;241m*\u001b[39mkwargs)\n",
      "\u001b[1;31mFileNotFoundError\u001b[0m: [Errno 2] No such file or directory: '..\\\\..\\\\Data\\\\Input\\\\Data_productie\\\\master_data.json'"
     ]
    }
   ],
   "source": [
    "#Data importeren\n"
   ]
  },
  {
   "cell_type": "markdown",
   "id": "003b9b65",
   "metadata": {},
   "source": [
    "### Functions"
   ]
  },
  {
   "cell_type": "code",
   "execution_count": 5,
   "id": "21fd192f",
   "metadata": {},
   "outputs": [
    {
     "data": {
      "text/plain": [
       "' doctring van chatGPT '"
      ]
     },
     "execution_count": 5,
     "metadata": {},
     "output_type": "execute_result"
    }
   ],
   "source": [
    "#Functies\n",
    "#Def ...():\n",
    "''' doctring van chatGPT '''"
   ]
  },
  {
   "cell_type": "markdown",
   "id": "5969505f",
   "metadata": {},
   "source": [
    "### Understand the data"
   ]
  },
  {
   "cell_type": "code",
   "execution_count": null,
   "id": "e1084fc1",
   "metadata": {},
   "outputs": [],
   "source": [
    "print('\\nNumber of rows and columns in the data set: ', df.shape)\n",
    "print(df)"
   ]
  },
  {
   "cell_type": "code",
   "execution_count": null,
   "id": "6fb805e8",
   "metadata": {},
   "outputs": [],
   "source": [
    "print(df.info())"
   ]
  },
  {
   "cell_type": "code",
   "execution_count": null,
   "id": "4943a6aa",
   "metadata": {},
   "outputs": [],
   "source": [
    "print(df.describe())"
   ]
  },
  {
   "cell_type": "markdown",
   "id": "92cb183d",
   "metadata": {},
   "source": [
    "### Handle duplicates and missing values"
   ]
  },
  {
   "cell_type": "code",
   "execution_count": 4,
   "id": "69005419",
   "metadata": {},
   "outputs": [
    {
     "ename": "NameError",
     "evalue": "name 'df' is not defined",
     "output_type": "error",
     "traceback": [
      "\u001b[1;31m---------------------------------------------------------------------------\u001b[0m",
      "\u001b[1;31mNameError\u001b[0m                                 Traceback (most recent call last)",
      "Cell \u001b[1;32mIn[4], line 3\u001b[0m\n\u001b[0;32m      1\u001b[0m \u001b[38;5;66;03m#Find and delete duplicate rows\u001b[39;00m\n\u001b[0;32m      2\u001b[0m \u001b[38;5;66;03m# Count of rows before deduplication\u001b[39;00m\n\u001b[1;32m----> 3\u001b[0m \u001b[38;5;28mprint\u001b[39m(\u001b[38;5;124m'\u001b[39m\u001b[38;5;124mCount of cars before deduplication:\u001b[39m\u001b[38;5;124m'\u001b[39m, \u001b[38;5;28mlen\u001b[39m(df))\n\u001b[0;32m      5\u001b[0m df[\u001b[38;5;124m'\u001b[39m\u001b[38;5;124mduplicate\u001b[39m\u001b[38;5;124m'\u001b[39m] \u001b[38;5;241m=\u001b[39m df\u001b[38;5;241m.\u001b[39mduplicated(keep\u001b[38;5;241m=\u001b[39m\u001b[38;5;124m'\u001b[39m\u001b[38;5;124mfirst\u001b[39m\u001b[38;5;124m'\u001b[39m) \u001b[38;5;66;03m# find duplicates in new column\u001b[39;00m\n\u001b[0;32m      6\u001b[0m df \u001b[38;5;241m=\u001b[39m df[df[\u001b[38;5;124m'\u001b[39m\u001b[38;5;124mduplicate\u001b[39m\u001b[38;5;124m'\u001b[39m] \u001b[38;5;241m==\u001b[39m \u001b[38;5;28;01mFalse\u001b[39;00m]\n",
      "\u001b[1;31mNameError\u001b[0m: name 'df' is not defined"
     ]
    }
   ],
   "source": [
    "#Find and delete duplicate rows\n",
    "# Count of rows before deduplication\n",
    "print('Row count before deduplication:', len(df))\n",
    "\n",
    "df['duplicate'] = df.duplicated(keep='first') # find duplicates in new column\n",
    "df = df[df['duplicate'] == False]\n",
    "df = df.drop('duplicate', axis=1) # delete newly made duplicate column\n",
    "print('Count after deduplication:', len(df))"
   ]
  },
  {
   "cell_type": "code",
   "execution_count": null,
   "id": "1f31bd2e",
   "metadata": {},
   "outputs": [],
   "source": [
    "# Delete columns not relevant for analysis\n",
    "df_relevant_cols = df.drop(columns=['model',\n",
    "                                         'engine',\n",
    "                                         'transmission',\n",
    "                                         'drivetrain',\n",
    "                                         'mpg',\n",
    "                                         'exterior_color',\n",
    "                                         'interior_color',\n",
    "                                         'seller_name'],\n",
    "                                errors='ignore')\n",
    "print(df_relevant_cols.columns)"
   ]
  },
  {
   "cell_type": "code",
   "execution_count": null,
   "id": "31c5748c",
   "metadata": {},
   "outputs": [],
   "source": [
    "# Count NaN values for each column in df\n",
    "na_counts = df.isna().sum()\n",
    "\n",
    "# Count of rows in DataFrame\n",
    "total_rows = len(df)\n",
    "\n",
    "# Count of non NaN values for each column\n",
    "non_na_counts = total_rows - na_counts\n",
    "\n",
    "# Percentage NaN values per column\n",
    "na_percentage = (na_counts / total_rows * 100).round(1)\n",
    "\n",
    "# Make DataFrame with NaN values, non NaN values and percentages\n",
    "output_df = pd.DataFrame({\n",
    "    '# NaN values': na_counts,\n",
    "    '% NaN values': na_percentage.astype(str) + '%',\n",
    "    '# non NaN values': non_na_counts\n",
    "})\n",
    "\n",
    "print(output_df)"
   ]
  },
  {
   "cell_type": "code",
   "execution_count": null,
   "id": "154c8a5a",
   "metadata": {},
   "outputs": [],
   "source": [
    "# Make copy of df\n",
    "df_relevant_rows_and_cols = df_relevant_cols.copy()\n",
    "\n",
    "# Delete NaN values from new DataFrame\n",
    "df_cars_relevant_rows_and_cols.dropna(subset=['year', 'mileage', 'price'], inplace=True)"
   ]
  },
  {
   "cell_type": "markdown",
   "id": "025817c7",
   "metadata": {},
   "source": [
    "### Data type conversion"
   ]
  },
  {
   "cell_type": "code",
   "execution_count": null,
   "id": "2ebc40be",
   "metadata": {},
   "outputs": [],
   "source": [
    "df.dtypes"
   ]
  },
  {
   "cell_type": "code",
   "execution_count": null,
   "id": "a4eeb8f9",
   "metadata": {},
   "outputs": [],
   "source": [
    "df['column'] = df['column'].astype('int')\n",
    "df['date_column'] = pd.to_datetime(df['date_column'])"
   ]
  },
  {
   "cell_type": "markdown",
   "id": "e35df774",
   "metadata": {},
   "source": [
    "### Rename columns"
   ]
  },
  {
   "cell_type": "code",
   "execution_count": null,
   "id": "514759b8",
   "metadata": {},
   "outputs": [],
   "source": [
    "COLUMN_MAP= {\n",
    "‘kolom’ : ‘nieuwe naam’,\n",
    "...\n",
    "}\n",
    "df=df.rename(COLUMN_MAP)"
   ]
  },
  {
   "cell_type": "markdown",
   "id": "c862c37f",
   "metadata": {},
   "source": [
    "### Handle outliers"
   ]
  },
  {
   "cell_type": "code",
   "execution_count": null,
   "id": "be50a583",
   "metadata": {},
   "outputs": [],
   "source": [
    "#Verdeling en outliers bekijken met boxplot\n",
    "# Select necessary variables for boxplots\n",
    "year_data = df_relevant_rows_and_cols['kolom_1']\n",
    "mileage_data = df_relevant_rows_and_cols['kolom_2']\n",
    "price_data = df_relevant_rows_and_cols['kolom_3']\n",
    "\n",
    "# Make a figure with three subplots in one row\n",
    "fig, axs = plt.subplots(1, 3, figsize=(18, 6))\n",
    "\n",
    "# Boxplot 'kolom_1'\n",
    "axs[0].boxplot(year_data)\n",
    "axs[0].set_title('1')\n",
    "\n",
    "# Boxplot 'kolom_2'\n",
    "axs[1].boxplot(mileage_data)\n",
    "axs[1].set_title('2')\n",
    "\n",
    "# Boxplot 'kolom_3'\n",
    "axs[2].boxplot(price_data)\n",
    "axs[2].set_title('3')\n",
    "\n",
    "plt.tight_layout()\n",
    "plt.show()"
   ]
  },
  {
   "cell_type": "code",
   "execution_count": 7,
   "id": "844160c8",
   "metadata": {},
   "outputs": [
    {
     "ename": "NameError",
     "evalue": "name 'df' is not defined",
     "output_type": "error",
     "traceback": [
      "\u001b[1;31m---------------------------------------------------------------------------\u001b[0m",
      "\u001b[1;31mNameError\u001b[0m                                 Traceback (most recent call last)",
      "Cell \u001b[1;32mIn[7], line 1\u001b[0m\n\u001b[1;32m----> 1\u001b[0m Q1 \u001b[38;5;241m=\u001b[39m df[\u001b[38;5;124m'\u001b[39m\u001b[38;5;124mcolumn\u001b[39m\u001b[38;5;124m'\u001b[39m]\u001b[38;5;241m.\u001b[39mquantile(\u001b[38;5;241m0.25\u001b[39m)\n\u001b[0;32m      2\u001b[0m Q3 \u001b[38;5;241m=\u001b[39m df[\u001b[38;5;124m'\u001b[39m\u001b[38;5;124mcolumn\u001b[39m\u001b[38;5;124m'\u001b[39m]\u001b[38;5;241m.\u001b[39mquantile(\u001b[38;5;241m0.75\u001b[39m)\n\u001b[0;32m      3\u001b[0m IQR \u001b[38;5;241m=\u001b[39m Q3 \u001b[38;5;241m-\u001b[39m Q1\n",
      "\u001b[1;31mNameError\u001b[0m: name 'df' is not defined"
     ]
    }
   ],
   "source": [
    "#Identify outliers\n",
    "Q1 = df['column'].quantile(0.25)\n",
    "Q3 = df['column'].quantile(0.75)\n",
    "IQR = Q3 - Q1\n",
    "outliers = df[(df['column'] < (Q1 - 1.5 * IQR)) | (df['column'] > (Q3 + 1.5 * IQR))]"
   ]
  },
  {
   "cell_type": "code",
   "execution_count": null,
   "id": "1f4864ad",
   "metadata": {},
   "outputs": [],
   "source": [
    "#Remove or handle outliers\n",
    "df = df[~((df['column'] < (Q1 - 1.5 * IQR)) | (df['column'] > (Q3 + 1.5 * IQR)))]"
   ]
  },
  {
   "cell_type": "markdown",
   "id": "b36c8ba4",
   "metadata": {},
   "source": [
    "### (ALS NODIG) Normalize (or standardize) data"
   ]
  },
  {
   "cell_type": "code",
   "execution_count": null,
   "id": "ac5cfead",
   "metadata": {},
   "outputs": [],
   "source": [
    "#Normalize\n",
    "#df['column'] = (df['column'] - df['column'].min()) / (df['column'].max() - df['column'].min())\n",
    "\n",
    "\n",
    "#Standardize\n",
    "#df['column'] = (df['column'] - df['column'].mean()) / df['column'].std()\n"
   ]
  },
  {
   "cell_type": "markdown",
   "id": "370ec226",
   "metadata": {},
   "source": [
    "### Feature engineering (new colomns)"
   ]
  },
  {
   "cell_type": "code",
   "execution_count": null,
   "id": "1a7ca87f",
   "metadata": {},
   "outputs": [],
   "source": [
    "df['new_feature'] = df['feature1'] + df['feature2']"
   ]
  },
  {
   "cell_type": "markdown",
   "id": "4157e449",
   "metadata": {},
   "source": [
    "### (ALS NODIG) Reindex or sort data"
   ]
  },
  {
   "cell_type": "code",
   "execution_count": null,
   "id": "81ea0e19",
   "metadata": {},
   "outputs": [],
   "source": [
    "#Reindex= df.reset_index(drop=True, inplace=True)\n",
    "#Sort = df.sort_values(by='column', ascending=True, inplace=True)"
   ]
  },
  {
   "cell_type": "markdown",
   "id": "27f2a58e",
   "metadata": {},
   "source": [
    "### Save cleaned data"
   ]
  },
  {
   "cell_type": "code",
   "execution_count": null,
   "id": "e51337ff",
   "metadata": {},
   "outputs": [],
   "source": [
    "df.to_csv('cleaned_file.csv', index=False)"
   ]
  }
 ],
 "metadata": {
  "kernelspec": {
   "display_name": "Python 3 (ipykernel)",
   "language": "python",
   "name": "python3"
  },
  "language_info": {
   "codemirror_mode": {
    "name": "ipython",
    "version": 3
   },
   "file_extension": ".py",
   "mimetype": "text/x-python",
   "name": "python",
   "nbconvert_exporter": "python",
   "pygments_lexer": "ipython3",
   "version": "3.11.5"
  }
 },
 "nbformat": 4,
 "nbformat_minor": 5
}
